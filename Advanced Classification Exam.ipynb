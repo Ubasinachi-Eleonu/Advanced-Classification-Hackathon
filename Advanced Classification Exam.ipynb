{
 "cells": [
  {
   "cell_type": "markdown",
   "id": "12ce29ad",
   "metadata": {},
   "source": [
    "# South Africa Languages Classification Challenge"
   ]
  },
  {
   "cell_type": "markdown",
   "id": "5d9fb5a9",
   "metadata": {},
   "source": [
    "## Honour Code\n",
    "I **UBASINACHI, ELEONU**, confirm - by submitting this document - that the solutions in this notebook are a result of my own work and that I abide by the EDSA honour code (https://drive.google.com/file/d/1QDCjGZJ8-FmJE3bZdIQNwnJyQKPhHZBn/view?usp=sharing).  \n",
    "\n",
    "Non-compliance with the honour code constitutes a material breach of contract."
   ]
  },
  {
   "cell_type": "markdown",
   "id": "48ce28e6",
   "metadata": {},
   "source": [
    "## Table of Contents"
   ]
  },
  {
   "cell_type": "markdown",
   "id": "4b1205db",
   "metadata": {},
   "source": [
    "## 1. Installing & Importing Packages"
   ]
  },
  {
   "cell_type": "code",
   "execution_count": 1,
   "id": "295e92ca",
   "metadata": {},
   "outputs": [
    {
     "name": "stdout",
     "output_type": "stream",
     "text": [
      "Collecting https://github.com/explosion/spacy-models/releases/download/en_core_web_sm-2.0.0/en_core_web_sm-2.0.0.tar.gz\n",
      "  Downloading https://github.com/explosion/spacy-models/releases/download/en_core_web_sm-2.0.0/en_core_web_sm-2.0.0.tar.gz (37.4 MB)\n",
      "Requirement already satisfied: spacy>=2.0.0a18 in c:\\users\\ubasinachi\\anaconda3\\lib\\site-packages (from en-core-web-sm==2.0.0) (3.3.1)\n",
      "Requirement already satisfied: setuptools in c:\\users\\ubasinachi\\anaconda3\\lib\\site-packages (from spacy>=2.0.0a18->en-core-web-sm==2.0.0) (58.0.4)\n",
      "Requirement already satisfied: langcodes<4.0.0,>=3.2.0 in c:\\users\\ubasinachi\\anaconda3\\lib\\site-packages (from spacy>=2.0.0a18->en-core-web-sm==2.0.0) (3.3.0)\n",
      "Requirement already satisfied: blis<0.8.0,>=0.4.0 in c:\\users\\ubasinachi\\anaconda3\\lib\\site-packages (from spacy>=2.0.0a18->en-core-web-sm==2.0.0) (0.7.8)\n",
      "Requirement already satisfied: catalogue<2.1.0,>=2.0.6 in c:\\users\\ubasinachi\\anaconda3\\lib\\site-packages (from spacy>=2.0.0a18->en-core-web-sm==2.0.0) (2.0.7)\n",
      "Requirement already satisfied: cymem<2.1.0,>=2.0.2 in c:\\users\\ubasinachi\\anaconda3\\lib\\site-packages (from spacy>=2.0.0a18->en-core-web-sm==2.0.0) (2.0.6)\n",
      "Requirement already satisfied: numpy>=1.15.0 in c:\\users\\ubasinachi\\anaconda3\\lib\\site-packages (from spacy>=2.0.0a18->en-core-web-sm==2.0.0) (1.20.3)\n",
      "Requirement already satisfied: srsly<3.0.0,>=2.4.3 in c:\\users\\ubasinachi\\anaconda3\\lib\\site-packages (from spacy>=2.0.0a18->en-core-web-sm==2.0.0) (2.4.3)\n",
      "Requirement already satisfied: murmurhash<1.1.0,>=0.28.0 in c:\\users\\ubasinachi\\anaconda3\\lib\\site-packages (from spacy>=2.0.0a18->en-core-web-sm==2.0.0) (1.0.7)\n",
      "Requirement already satisfied: pydantic!=1.8,!=1.8.1,<1.9.0,>=1.7.4 in c:\\users\\ubasinachi\\anaconda3\\lib\\site-packages (from spacy>=2.0.0a18->en-core-web-sm==2.0.0) (1.8.2)\n",
      "Requirement already satisfied: tqdm<5.0.0,>=4.38.0 in c:\\users\\ubasinachi\\anaconda3\\lib\\site-packages (from spacy>=2.0.0a18->en-core-web-sm==2.0.0) (4.62.3)\n",
      "Requirement already satisfied: thinc<8.1.0,>=8.0.14 in c:\\users\\ubasinachi\\anaconda3\\lib\\site-packages (from spacy>=2.0.0a18->en-core-web-sm==2.0.0) (8.0.17)\n",
      "Requirement already satisfied: typer<0.5.0,>=0.3.0 in c:\\users\\ubasinachi\\anaconda3\\lib\\site-packages (from spacy>=2.0.0a18->en-core-web-sm==2.0.0) (0.4.1)\n",
      "Requirement already satisfied: spacy-legacy<3.1.0,>=3.0.9 in c:\\users\\ubasinachi\\anaconda3\\lib\\site-packages (from spacy>=2.0.0a18->en-core-web-sm==2.0.0) (3.0.9)\n",
      "Requirement already satisfied: pathy>=0.3.5 in c:\\users\\ubasinachi\\anaconda3\\lib\\site-packages (from spacy>=2.0.0a18->en-core-web-sm==2.0.0) (0.6.1)\n",
      "Requirement already satisfied: jinja2 in c:\\users\\ubasinachi\\anaconda3\\lib\\site-packages (from spacy>=2.0.0a18->en-core-web-sm==2.0.0) (2.11.3)\n",
      "Requirement already satisfied: preshed<3.1.0,>=3.0.2 in c:\\users\\ubasinachi\\anaconda3\\lib\\site-packages (from spacy>=2.0.0a18->en-core-web-sm==2.0.0) (3.0.6)\n",
      "Requirement already satisfied: wasabi<1.1.0,>=0.9.1 in c:\\users\\ubasinachi\\anaconda3\\lib\\site-packages (from spacy>=2.0.0a18->en-core-web-sm==2.0.0) (0.9.1)\n",
      "Requirement already satisfied: spacy-loggers<2.0.0,>=1.0.0 in c:\\users\\ubasinachi\\anaconda3\\lib\\site-packages (from spacy>=2.0.0a18->en-core-web-sm==2.0.0) (1.0.2)\n",
      "Requirement already satisfied: packaging>=20.0 in c:\\users\\ubasinachi\\appdata\\roaming\\python\\python39\\site-packages (from spacy>=2.0.0a18->en-core-web-sm==2.0.0) (21.3)\n",
      "Requirement already satisfied: requests<3.0.0,>=2.13.0 in c:\\users\\ubasinachi\\anaconda3\\lib\\site-packages (from spacy>=2.0.0a18->en-core-web-sm==2.0.0) (2.26.0)\n",
      "Requirement already satisfied: pyparsing!=3.0.5,>=2.0.2 in c:\\users\\ubasinachi\\appdata\\roaming\\python\\python39\\site-packages (from packaging>=20.0->spacy>=2.0.0a18->en-core-web-sm==2.0.0) (3.0.7)\n",
      "Requirement already satisfied: smart-open<6.0.0,>=5.0.0 in c:\\users\\ubasinachi\\anaconda3\\lib\\site-packages (from pathy>=0.3.5->spacy>=2.0.0a18->en-core-web-sm==2.0.0) (5.2.1)\n",
      "Requirement already satisfied: typing-extensions>=3.7.4.3 in c:\\users\\ubasinachi\\anaconda3\\lib\\site-packages (from pydantic!=1.8,!=1.8.1,<1.9.0,>=1.7.4->spacy>=2.0.0a18->en-core-web-sm==2.0.0) (3.10.0.2)\n",
      "Requirement already satisfied: idna<4,>=2.5 in c:\\users\\ubasinachi\\anaconda3\\lib\\site-packages (from requests<3.0.0,>=2.13.0->spacy>=2.0.0a18->en-core-web-sm==2.0.0) (3.2)\n",
      "Requirement already satisfied: certifi>=2017.4.17 in c:\\users\\ubasinachi\\anaconda3\\lib\\site-packages (from requests<3.0.0,>=2.13.0->spacy>=2.0.0a18->en-core-web-sm==2.0.0) (2021.10.8)\n",
      "Requirement already satisfied: urllib3<1.27,>=1.21.1 in c:\\users\\ubasinachi\\anaconda3\\lib\\site-packages (from requests<3.0.0,>=2.13.0->spacy>=2.0.0a18->en-core-web-sm==2.0.0) (1.26.7)\n",
      "Requirement already satisfied: charset-normalizer~=2.0.0 in c:\\users\\ubasinachi\\anaconda3\\lib\\site-packages (from requests<3.0.0,>=2.13.0->spacy>=2.0.0a18->en-core-web-sm==2.0.0) (2.0.4)\n",
      "Requirement already satisfied: colorama in c:\\users\\ubasinachi\\appdata\\roaming\\python\\python39\\site-packages (from tqdm<5.0.0,>=4.38.0->spacy>=2.0.0a18->en-core-web-sm==2.0.0) (0.4.4)\n",
      "Requirement already satisfied: click<9.0.0,>=7.1.1 in c:\\users\\ubasinachi\\anaconda3\\lib\\site-packages (from typer<0.5.0,>=0.3.0->spacy>=2.0.0a18->en-core-web-sm==2.0.0) (8.0.3)\n",
      "Requirement already satisfied: MarkupSafe>=0.23 in c:\\users\\ubasinachi\\anaconda3\\lib\\site-packages (from jinja2->spacy>=2.0.0a18->en-core-web-sm==2.0.0) (1.1.1)\n",
      "Note: you may need to restart the kernel to use updated packages.\n"
     ]
    }
   ],
   "source": [
    "pip install https://github.com/explosion/spacy-models/releases/download/en_core_web_sm-2.0.0/en_core_web_sm-2.0.0.tar.gz"
   ]
  },
  {
   "cell_type": "code",
   "execution_count": 3,
   "id": "0be108c6",
   "metadata": {},
   "outputs": [],
   "source": [
    "# Packages for statistical analysis\n",
    "import pandas as pd\n",
    "import numpy as np\n",
    "import time\n",
    "\n",
    "# Packages for visualizations\n",
    "import matplotlib.pyplot as plt\n",
    "import seaborn as sns\n",
    "import matplotlib.style as style\n",
    "%matplotlib inline\n",
    "sns.set(font_scale=1.5)\n",
    "style.use('seaborn-pastel')\n",
    "style.use('seaborn-poster')\n",
    "\n",
    "# Packages for preprocessing\n",
    "import nltk\n",
    "import string\n",
    "import re\n",
    "from sklearn.feature_extraction.text import TfidfVectorizer\n",
    "\n",
    "# Packages for training models\n",
    "from sklearn.pipeline import Pipeline\n",
    "from sklearn.linear_model import LogisticRegression, SGDClassifier\n",
    "from sklearn.naive_bayes import MultinomialNB, ComplementNB\n",
    "from sklearn.svm import LinearSVC, SVC\n",
    "from sklearn.model_selection import train_test_split\n",
    "from sklearn.model_selection import GridSearchCV, KFold, cross_val_score\n",
    "from sklearn.model_selection import RepeatedStratifiedKFold\n",
    "from sklearn.neighbors import KNeighborsClassifier\n",
    "from sklearn.tree import DecisionTreeClassifier\n",
    "from sklearn.ensemble import GradientBoostingClassifier\n",
    "from sklearn.ensemble import RandomForestClassifier\n",
    "from sklearn.neural_network import MLPClassifier\n",
    "from sklearn import metrics\n",
    "\n",
    "# Model Evaluation Packages\n",
    "from sklearn.metrics import accuracy_score, precision_score, recall_score\n",
    "from sklearn.metrics import confusion_matrix, classification_report, f1_score\n",
    "from sklearn.metrics import make_scorer\n"
   ]
  },
  {
   "cell_type": "markdown",
   "id": "0a347703",
   "metadata": {},
   "source": [
    "## 2. Loading Dataset"
   ]
  },
  {
   "cell_type": "code",
   "execution_count": null,
   "id": "fc755adf",
   "metadata": {},
   "outputs": [],
   "source": []
  },
  {
   "cell_type": "code",
   "execution_count": null,
   "id": "af28b7ca",
   "metadata": {},
   "outputs": [],
   "source": []
  }
 ],
 "metadata": {
  "kernelspec": {
   "display_name": "Python 3 (ipykernel)",
   "language": "python",
   "name": "python3"
  },
  "language_info": {
   "codemirror_mode": {
    "name": "ipython",
    "version": 3
   },
   "file_extension": ".py",
   "mimetype": "text/x-python",
   "name": "python",
   "nbconvert_exporter": "python",
   "pygments_lexer": "ipython3",
   "version": "3.9.7"
  }
 },
 "nbformat": 4,
 "nbformat_minor": 5
}
